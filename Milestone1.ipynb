{
 "cells": [
  {
   "cell_type": "markdown",
   "metadata": {},
   "source": [
    "# MILESTONE 1: TEXT SUMMARIZATION & PARAPHRASING\n",
    "TextMorph: Compares T5, BART, and PEGASUS for summarization and paraphrasing, evaluating length and similarity, with visual charts to show performance."
   ]
  },
  {
   "cell_type": "markdown",
   "metadata": {},
   "source": [
    "# **STEP 1**: Install Libraries\n",
    "In this section, we import all the Python libraries needed for summarization, paraphrasing, and evaluation tasks."
   ]
  },
  {
   "cell_type": "code",
   "execution_count": 94,
   "metadata": {},
   "outputs": [],
   "source": [
    "# Install libraries\n",
    "!pip install transformers sentencepiece evaluate sentence-transformers matplotlib pandas --quiet\n"
   ]
  },
  {
   "cell_type": "code",
   "execution_count": 96,
   "metadata": {},
   "outputs": [],
   "source": [
    "# Imports\n",
    "from transformers import pipeline # Load NLP models\n",
    "from sentence_transformers import SentenceTransformer  # Sentence embeddings\n",
    "from sklearn.metrics.pairwise import cosine_similarity # Compare vectors\n",
    "import requests, re, textwrap # Fetch & clean text"
   ]
  },
  {
   "cell_type": "markdown",
   "metadata": {},
   "source": [
    "# **STEP 2**: Load Pre-trained Models\n",
    "We load multiple models for both *summarization* and *paraphrasing*, including T5, BART, and PEGASUS."
   ]
  },
  {
   "cell_type": "code",
   "execution_count": 97,
   "metadata": {},
   "outputs": [
    {
     "name": "stderr",
     "output_type": "stream",
     "text": [
      "Device set to use cpu\n",
      "Device set to use cpu\n",
      "Some weights of PegasusForConditionalGeneration were not initialized from the model checkpoint at google/pegasus-xsum and are newly initialized: ['model.decoder.embed_positions.weight', 'model.encoder.embed_positions.weight']\n",
      "You should probably TRAIN this model on a down-stream task to be able to use it for predictions and inference.\n",
      "Device set to use cpu\n",
      "Device set to use cpu\n",
      "Device set to use cpu\n",
      "Some weights of PegasusForConditionalGeneration were not initialized from the model checkpoint at tuner007/pegasus_paraphrase and are newly initialized: ['model.decoder.embed_positions.weight', 'model.encoder.embed_positions.weight']\n",
      "You should probably TRAIN this model on a down-stream task to be able to use it for predictions and inference.\n",
      "Device set to use cpu\n"
     ]
    },
    {
     "name": "stdout",
     "output_type": "stream",
     "text": [
      "Pipelines & similarity model loaded.\n"
     ]
    }
   ],
   "source": [
    "# Load pipelines on CPU\n",
    "summarizer_t5 = pipeline(\"summarization\", model=\"t5-base\", device=-1)\n",
    "summarizer_bart = pipeline(\"summarization\", model=\"facebook/bart-base\", device=-1)\n",
    "summarizer_pegasus = pipeline(\"summarization\", model=\"google/pegasus-xsum\", device=-1)\n",
    "#These models generate concise summaries from longer texts.\n",
    "\n",
    "paraphraser_t5 = pipeline(\"text2text-generation\", model=\"Vamsi/T5_Paraphrase_Paws\", device=-1)\n",
    "paraphraser_bart = pipeline(\"text2text-generation\", model=\"eugenesiow/bart-paraphrase\", device=-1)\n",
    "paraphraser_pegasus = pipeline(\"text2text-generation\", model=\"tuner007/pegasus_paraphrase\", device=-1)\n",
    "#These models rephrase the text without changing its meaning.\n",
    "\n",
    "similarity_model = SentenceTransformer('all-MiniLM-L6-v2')\n",
    "print(\"Pipelines & similarity model loaded.\")\n",
    "#This model evaluates how similar the generated text is to the original text."
   ]
  },
  {
   "cell_type": "markdown",
   "metadata": {},
   "source": [
    "# **STEP 3**: Load Input Data\n",
    "In this section, we load the text files that will be summarized and paraphrased.\n",
    "We read multiple input files (e.g., File_1.txt, File_2.txt, etc.) from the local directory."
   ]
  },
  {
   "cell_type": "code",
   "execution_count": 98,
   "metadata": {},
   "outputs": [],
   "source": [
    "# Load and clean texts\n",
    "urls = [\n",
    "    \"https://www.gutenberg.org/files/84/84-0.txt\",\n",
    "    \"https://www.gutenberg.org/files/1342/1342-0.txt\"\n",
    "]\n",
    "texts = [requests.get(url).text for url in urls]\n",
    "\n",
    "def clean_text(text):\n",
    "    text = re.sub(r'[^\\x00-\\x7F]+',' ', text)\n",
    "    text = re.sub(r'\\s+', ' ', text)\n",
    "    return text.strip()\n",
    "\n",
    "cleaned_texts = [clean_text(txt)[:13000] for txt in texts]  # take first 13000 chars for CPU speed\n"
   ]
  },
  {
   "cell_type": "markdown",
   "metadata": {},
   "source": [
    "# **STEP 4**: Text Summarization\n",
    "In this section, we summarize each input file using three different models — T5, BART, and PEGASUS — and compare their results.\n",
    "\n"
   ]
  },
  {
   "cell_type": "markdown",
   "metadata": {},
   "source": [
    "**STEP 4.1**: Text Summarization With T5"
   ]
  },
  {
   "cell_type": "code",
   "execution_count": 99,
   "metadata": {},
   "outputs": [
    {
     "name": "stderr",
     "output_type": "stream",
     "text": [
      "Both `max_new_tokens` (=256) and `max_length`(=150) seem to have been set. `max_new_tokens` will take precedence. Please refer to the documentation for more information. (https://huggingface.co/docs/transformers/main/en/main_classes/text_generation)\n",
      "Both `max_new_tokens` (=256) and `max_length`(=150) seem to have been set. `max_new_tokens` will take precedence. Please refer to the documentation for more information. (https://huggingface.co/docs/transformers/main/en/main_classes/text_generation)\n",
      "Both `max_new_tokens` (=256) and `max_length`(=150) seem to have been set. `max_new_tokens` will take precedence. Please refer to the documentation for more information. (https://huggingface.co/docs/transformers/main/en/main_classes/text_generation)\n",
      "Both `max_new_tokens` (=256) and `max_length`(=150) seem to have been set. `max_new_tokens` will take precedence. Please refer to the documentation for more information. (https://huggingface.co/docs/transformers/main/en/main_classes/text_generation)\n",
      "Both `max_new_tokens` (=256) and `max_length`(=150) seem to have been set. `max_new_tokens` will take precedence. Please refer to the documentation for more information. (https://huggingface.co/docs/transformers/main/en/main_classes/text_generation)\n",
      "Both `max_new_tokens` (=256) and `max_length`(=150) seem to have been set. `max_new_tokens` will take precedence. Please refer to the documentation for more information. (https://huggingface.co/docs/transformers/main/en/main_classes/text_generation)\n",
      "Both `max_new_tokens` (=256) and `max_length`(=150) seem to have been set. `max_new_tokens` will take precedence. Please refer to the documentation for more information. (https://huggingface.co/docs/transformers/main/en/main_classes/text_generation)\n",
      "Both `max_new_tokens` (=256) and `max_length`(=150) seem to have been set. `max_new_tokens` will take precedence. Please refer to the documentation for more information. (https://huggingface.co/docs/transformers/main/en/main_classes/text_generation)\n",
      "Both `max_new_tokens` (=256) and `max_length`(=150) seem to have been set. `max_new_tokens` will take precedence. Please refer to the documentation for more information. (https://huggingface.co/docs/transformers/main/en/main_classes/text_generation)\n",
      "Both `max_new_tokens` (=256) and `max_length`(=150) seem to have been set. `max_new_tokens` will take precedence. Please refer to the documentation for more information. (https://huggingface.co/docs/transformers/main/en/main_classes/text_generation)\n"
     ]
    }
   ],
   "source": [
    "# Summarize large text with T5\n",
    "def summarize_t5(text, chunk_size=500, max_len=150, min_len=40):\n",
    "    summaries = []\n",
    "    words = text.split()\n",
    "    for i in range(0, len(words), chunk_size):\n",
    "        chunk = \" \".join(words[i:i+chunk_size])\n",
    "        summary = summarizer_t5(chunk, max_length=max_len, min_length=min_len, do_sample=False)[0]['summary_text']\n",
    "        summaries.append(summary)\n",
    "    return \" \".join(summaries)\n",
    "\n",
    "t5_summaries = [summarize_t5(txt) for txt in cleaned_texts]\n"
   ]
  },
  {
   "cell_type": "markdown",
   "metadata": {},
   "source": [
    "**STEP 4.2**: Text Summarization With BART"
   ]
  },
  {
   "cell_type": "code",
   "execution_count": 11,
   "metadata": {},
   "outputs": [
    {
     "name": "stderr",
     "output_type": "stream",
     "text": [
      "Both `max_new_tokens` (=256) and `max_length`(=150) seem to have been set. `max_new_tokens` will take precedence. Please refer to the documentation for more information. (https://huggingface.co/docs/transformers/main/en/main_classes/text_generation)\n",
      "Both `max_new_tokens` (=256) and `max_length`(=150) seem to have been set. `max_new_tokens` will take precedence. Please refer to the documentation for more information. (https://huggingface.co/docs/transformers/main/en/main_classes/text_generation)\n",
      "Both `max_new_tokens` (=256) and `max_length`(=150) seem to have been set. `max_new_tokens` will take precedence. Please refer to the documentation for more information. (https://huggingface.co/docs/transformers/main/en/main_classes/text_generation)\n",
      "Both `max_new_tokens` (=256) and `max_length`(=150) seem to have been set. `max_new_tokens` will take precedence. Please refer to the documentation for more information. (https://huggingface.co/docs/transformers/main/en/main_classes/text_generation)\n",
      "Both `max_new_tokens` (=256) and `max_length`(=150) seem to have been set. `max_new_tokens` will take precedence. Please refer to the documentation for more information. (https://huggingface.co/docs/transformers/main/en/main_classes/text_generation)\n",
      "Both `max_new_tokens` (=256) and `max_length`(=150) seem to have been set. `max_new_tokens` will take precedence. Please refer to the documentation for more information. (https://huggingface.co/docs/transformers/main/en/main_classes/text_generation)\n",
      "Both `max_new_tokens` (=256) and `max_length`(=150) seem to have been set. `max_new_tokens` will take precedence. Please refer to the documentation for more information. (https://huggingface.co/docs/transformers/main/en/main_classes/text_generation)\n",
      "Both `max_new_tokens` (=256) and `max_length`(=150) seem to have been set. `max_new_tokens` will take precedence. Please refer to the documentation for more information. (https://huggingface.co/docs/transformers/main/en/main_classes/text_generation)\n",
      "Both `max_new_tokens` (=256) and `max_length`(=150) seem to have been set. `max_new_tokens` will take precedence. Please refer to the documentation for more information. (https://huggingface.co/docs/transformers/main/en/main_classes/text_generation)\n",
      "Both `max_new_tokens` (=256) and `max_length`(=150) seem to have been set. `max_new_tokens` will take precedence. Please refer to the documentation for more information. (https://huggingface.co/docs/transformers/main/en/main_classes/text_generation)\n"
     ]
    }
   ],
   "source": [
    "#BART Summarization\n",
    "def summarize_bart(text, chunk_size=500, max_len=150, min_len=40):\n",
    "    summaries = []\n",
    "    words = text.split()\n",
    "    for i in range(0, len(words), chunk_size):\n",
    "        chunk = \" \".join(words[i:i+chunk_size])\n",
    "        summary = summarizer_bart(chunk, max_length=max_len, min_length=min_len, do_sample=False)[0]['summary_text']\n",
    "        summaries.append(summary)\n",
    "    return \" \".join(summaries)\n",
    "\n",
    "bart_summaries = [summarize_bart(txt) for txt in cleaned_texts]\n"
   ]
  },
  {
   "cell_type": "markdown",
   "metadata": {},
   "source": [
    "**STEP 4.3**: Text Summarization With Pegasus-xsum"
   ]
  },
  {
   "cell_type": "code",
   "execution_count": 100,
   "metadata": {},
   "outputs": [
    {
     "name": "stdout",
     "output_type": "stream",
     "text": [
      "✅ Pegasus summarization done.\n"
     ]
    }
   ],
   "source": [
    "# PEGASUS-xsum Summarization\n",
    "\n",
    "def summarize_pegasus_safe(text, max_len=60, min_len=20, chunk_words=150):\n",
    "    \"\"\"\n",
    "    Summarize text safely on CPU using Pegasus-XSum.\n",
    "    - chunk_words: number of words per chunk (keep small to avoid errors)\n",
    "    \"\"\"\n",
    "    summaries = []\n",
    "    words = text.split()\n",
    "\n",
    "    for i in range(0, len(words), chunk_words):\n",
    "        chunk = \" \".join(words[i:i+chunk_words]).strip()\n",
    "        if not chunk:\n",
    "            continue\n",
    "        try:\n",
    "            result = summarizer_pegasus(chunk, max_length=max_len, min_length=min_len, do_sample=False)\n",
    "            if result and 'summary_text' in result[0]:\n",
    "                summaries.append(result[0]['summary_text'])\n",
    "        except Exception as e:\n",
    "            print(f\"⚠️ Skipping chunk due to Pegasus error: {e}\")\n",
    "            continue\n",
    "\n",
    "    return \" \".join(summaries)\n",
    "\n",
    "# Apply to cleaned texts\n",
    "pegasus_summaries = [summarize_pegasus_safe(txt) for txt in cleaned_texts]\n",
    "print(\"✅ Pegasus summarization done.\")\n",
    "\n",
    "\n",
    "\n"
   ]
  },
  {
   "cell_type": "markdown",
   "metadata": {},
   "source": [
    "# **STEP 5**: Text Paraphrasing\n",
    "After summarization, we generate paraphrased versions using T5, BART, and PEGASUS models.\n",
    "\n"
   ]
  },
  {
   "cell_type": "markdown",
   "metadata": {},
   "source": [
    "**STEP 5.1**: Text Paraphrasing With Pegasus-xsum"
   ]
  },
  {
   "cell_type": "code",
   "execution_count": 101,
   "metadata": {},
   "outputs": [
    {
     "name": "stdout",
     "output_type": "stream",
     "text": [
      "✅ Pegasus Paraphrasing done.\n"
     ]
    }
   ],
   "source": [
    "# PEGASUS Paraphrasing\n",
    "\n",
    "def paraphrase_pegasus_safe_v2(text, max_tokens=60, num_return=1):\n",
    "    \"\"\"\n",
    "    Safe Pegasus paraphrasing for CPU.\n",
    "    - max_tokens: max tokens per chunk\n",
    "    - num_return: number of paraphrases per chunk\n",
    "    \"\"\"\n",
    "    paras = []\n",
    "    try:\n",
    "        # encode & truncate safely\n",
    "        inputs = paraphraser_pegasus.tokenizer(\n",
    "            text, return_tensors=\"pt\", truncation=True, max_length=max_tokens\n",
    "        )\n",
    "        results = paraphraser_pegasus.model.generate(\n",
    "            **inputs,\n",
    "            max_length=max_tokens,\n",
    "            num_return_sequences=num_return,\n",
    "            do_sample=False,\n",
    "            early_stopping=True\n",
    "        )\n",
    "        decoded = paraphraser_pegasus.tokenizer.batch_decode(results, skip_special_tokens=True)\n",
    "        paras.extend(decoded)\n",
    "    except Exception as e:\n",
    "        print(f\"⚠️ Skipping text due to error: {e}\")\n",
    "\n",
    "    return \" \".join(paras)\n",
    "\n",
    "# Apply to all cleaned texts\n",
    "pegasus_paraphrases = [paraphrase_pegasus_safe_v2(txt) for txt in cleaned_texts]\n",
    "\n",
    "print(\"✅ Pegasus Paraphrasing done.\")\n",
    "\n",
    "\n",
    "\n",
    "\n",
    "\n",
    "\n",
    "\n",
    "\n"
   ]
  },
  {
   "cell_type": "markdown",
   "metadata": {},
   "source": [
    "**STEP 5.2**: Text Paraphrasing With T5"
   ]
  },
  {
   "cell_type": "code",
   "execution_count": 102,
   "metadata": {},
   "outputs": [],
   "source": [
    "# T5 Paraphrasing\n",
    "\n",
    "def paraphrase_t5(text, chunk_size=300, num_return=2):\n",
    "    paraphrases = []\n",
    "    words = text.split()\n",
    "    for i in range(0, len(words), chunk_size):\n",
    "        chunk = \" \".join(words[i:i+chunk_size]).strip()\n",
    "        if not chunk:\n",
    "            continue\n",
    "        try:\n",
    "            results = paraphraser_t5(chunk, num_return_sequences=num_return, do_sample=False)\n",
    "            paraphrases.extend([r['generated_text'] for r in results])\n",
    "        except Exception as e:\n",
    "            print(f\"⚠️ Skipping chunk due to error: {e}\")\n",
    "            continue\n",
    "    return paraphrases\n",
    "\n",
    "t5_paraphrases = [paraphrase_t5(summary) for summary in t5_summaries]"
   ]
  },
  {
   "cell_type": "markdown",
   "metadata": {},
   "source": [
    "**STEP 5.3**: Text Paraphrasing With BART"
   ]
  },
  {
   "cell_type": "code",
   "execution_count": 104,
   "metadata": {},
   "outputs": [],
   "source": [
    "# BART Paraphrasing\n",
    "\n",
    "def paraphrase_bart(text, chunk_size=300, num_return=2):\n",
    "    paraphrases = []\n",
    "    words = text.split()\n",
    "    for i in range(0, len(words), chunk_size):\n",
    "        chunk = \" \".join(words[i:i+chunk_size]).strip()\n",
    "        if not chunk:\n",
    "            continue\n",
    "        try:\n",
    "            results = paraphraser_bart(chunk, num_return_sequences=num_return, do_sample=False)\n",
    "            paraphrases.extend([r['generated_text'] for r in results])\n",
    "        except Exception as e:\n",
    "            print(f\"⚠️ Skipping chunk due to error: {e}\")\n",
    "            continue\n",
    "    return paraphrases\n",
    "\n",
    "bart_paraphrases = [paraphrase_bart(summary) for summary in bart_summaries]"
   ]
  },
  {
   "cell_type": "markdown",
   "metadata": {},
   "source": [
    "# **STEP 6**: Model Comparison\n",
    "It clearly indicates both summarization and paraphrasing metrics."
   ]
  },
  {
   "cell_type": "markdown",
   "metadata": {},
   "source": [
    "**STEP 6.1**: Similarity analysis"
   ]
  },
  {
   "cell_type": "code",
   "execution_count": 105,
   "metadata": {},
   "outputs": [
    {
     "name": "stdout",
     "output_type": "stream",
     "text": [
      "\n",
      "=== Text 1 Similarities ===\n",
      "Summary Similarity to Original:\n",
      "T5_vs_Original: 0.365\n",
      "BART_vs_Original: 0.999\n",
      "PEGASUS_vs_Original: 0.634\n",
      "\n",
      "Paraphrase Similarity to Original (Average):\n",
      "T5_Paraphrases_vs_Original: 0.298\n",
      "BART_Paraphrases_vs_Original: 0.424\n",
      "PEGASUS_Paraphrases_vs_Original: 0.082\n",
      "\n",
      "=== Text 2 Similarities ===\n",
      "Summary Similarity to Original:\n",
      "T5_vs_Original: 0.553\n",
      "BART_vs_Original: 0.962\n",
      "PEGASUS_vs_Original: 0.612\n",
      "\n",
      "Paraphrase Similarity to Original (Average):\n",
      "T5_Paraphrases_vs_Original: 0.391\n",
      "BART_Paraphrases_vs_Original: 0.347\n",
      "PEGASUS_Paraphrases_vs_Original: 0.045\n"
     ]
    }
   ],
   "source": [
    "# Similarity Analysis\n",
    "\n",
    "from sklearn.metrics.pairwise import cosine_similarity\n",
    "\n",
    "# Function to compute similarity between two texts\n",
    "def compute_similarity(text1, text2):\n",
    "    embeddings = similarity_model.encode([text1, text2])\n",
    "    sim_score = cosine_similarity([embeddings[0]], [embeddings[1]])[0][0]\n",
    "    return sim_score\n",
    "\n",
    "# Compute similarity between original text and summaries\n",
    "summary_similarities = []\n",
    "for i, orig_text in enumerate(cleaned_texts):\n",
    "    t5_sim = compute_similarity(orig_text, t5_summaries[i])\n",
    "    bart_sim = compute_similarity(orig_text, bart_summaries[i])\n",
    "    pegasus_sim = compute_similarity(orig_text, pegasus_summaries[i])\n",
    "\n",
    "    summary_similarities.append({\n",
    "        'T5_vs_Original': t5_sim,\n",
    "        'BART_vs_Original': bart_sim,\n",
    "        'PEGASUS_vs_Original': pegasus_sim\n",
    "    })\n",
    "\n",
    "# Compute similarity between original text and paraphrases (average over all generated paraphrases)\n",
    "paraphrase_similarities = []\n",
    "for i, orig_text in enumerate(cleaned_texts):\n",
    "    t5_paras_sim = sum([compute_similarity(orig_text, p) for p in t5_paraphrases[i]]) / len(t5_paraphrases[i])\n",
    "    bart_paras_sim = sum([compute_similarity(orig_text, p) for p in bart_paraphrases[i]]) / len(bart_paraphrases[i])\n",
    "    pegasus_paras_sim = sum([compute_similarity(orig_text, p) for p in pegasus_paraphrases[i]]) / len(pegasus_paraphrases[i])\n",
    "\n",
    "    paraphrase_similarities.append({\n",
    "        'T5_Paraphrases_vs_Original': t5_paras_sim,\n",
    "        'BART_Paraphrases_vs_Original': bart_paras_sim,\n",
    "        'PEGASUS_Paraphrases_vs_Original': pegasus_paras_sim\n",
    "    })\n",
    "\n",
    "# Display results\n",
    "for i in range(len(cleaned_texts)):\n",
    "    print(f\"\\n=== Text {i+1} Similarities ===\")\n",
    "    print(\"Summary Similarity to Original:\")\n",
    "    for k, v in summary_similarities[i].items():\n",
    "        print(f\"{k}: {v:.3f}\")\n",
    "    print(\"\\nParaphrase Similarity to Original (Average):\")\n",
    "    for k, v in paraphrase_similarities[i].items():\n",
    "        print(f\"{k}: {v:.3f}\")\n"
   ]
  },
  {
   "cell_type": "markdown",
   "metadata": {},
   "source": [
    "**STEP 6.2**: Summary Length analysis"
   ]
  },
  {
   "cell_type": "code",
   "execution_count": 106,
   "metadata": {},
   "outputs": [
    {
     "name": "stdout",
     "output_type": "stream",
     "text": [
      "    T5  BART  PEGASUS\n",
      "0  274  1073      360\n",
      "1  271   965      425\n"
     ]
    }
   ],
   "source": [
    "# Function to compute summary lengths\n",
    "def summary_lengths(summaries):\n",
    "    return [len(s.split()) for s in summaries]\n",
    "\n",
    "t5_lengths = summary_lengths(t5_summaries)\n",
    "bart_lengths = summary_lengths(bart_summaries)\n",
    "pegasus_lengths = summary_lengths(pegasus_summaries)\n",
    "\n",
    "# Example display\n",
    "import pandas as pd\n",
    "length_df = pd.DataFrame({\n",
    "    'T5': t5_lengths,\n",
    "    'BART': bart_lengths,\n",
    "    'PEGASUS': pegasus_lengths\n",
    "})\n",
    "print(length_df)\n",
    "\n"
   ]
  },
  {
   "cell_type": "markdown",
   "metadata": {},
   "source": [
    "**STEP 6.3**: Paraphrasing Length analysis"
   ]
  },
  {
   "cell_type": "code",
   "execution_count": 107,
   "metadata": {},
   "outputs": [
    {
     "name": "stdout",
     "output_type": "stream",
     "text": [
      "   T5  BART  PEGASUS\n",
      "0  69    92       25\n",
      "1  76    70        8\n"
     ]
    }
   ],
   "source": [
    "# Function to compute paraphrase lengths\n",
    "def paraphrase_lengths(paraphrases_list):\n",
    "    lengths = []\n",
    "    for paras in paraphrases_list:\n",
    "        # Flatten nested lists if any\n",
    "        if isinstance(paras, list):\n",
    "            paras_flat = [p for sub in paras for p in (sub if isinstance(sub, list) else [sub])]\n",
    "        else:\n",
    "            paras_flat = [paras]\n",
    "        # Take average length if multiple paraphrases per text\n",
    "        if paras_flat:\n",
    "            avg_len = sum(len(p.split()) for p in paras_flat) / len(paras_flat)\n",
    "        else:\n",
    "            avg_len = 0\n",
    "        lengths.append(int(avg_len))\n",
    "    return lengths\n",
    "\n",
    "# Compute lengths for each model\n",
    "t5_para_lengths = paraphrase_lengths(t5_paraphrases)\n",
    "bart_para_lengths = paraphrase_lengths(bart_paraphrases)\n",
    "pegasus_para_lengths = paraphrase_lengths(pegasus_paraphrases)\n",
    "\n",
    "# Display in DataFrame\n",
    "para_length_df = pd.DataFrame({\n",
    "    'T5': t5_para_lengths,\n",
    "    'BART': bart_para_lengths,\n",
    "    'PEGASUS': pegasus_para_lengths\n",
    "}, index=['0', '1'])  # Adjust index for your files\n",
    "\n",
    "print(para_length_df)\n"
   ]
  },
  {
   "cell_type": "markdown",
   "metadata": {},
   "source": [
    "**STEP 6.4**: Similarity to Original Calculation for Summarization"
   ]
  },
  {
   "cell_type": "code",
   "execution_count": 108,
   "metadata": {},
   "outputs": [
    {
     "name": "stdout",
     "output_type": "stream",
     "text": [
      "         T5      BART   PEGASUS\n",
      "0  0.364638  0.998928  0.634017\n",
      "1  0.552900  0.961536  0.611819\n"
     ]
    }
   ],
   "source": [
    "# Function to compute cosine similarity\n",
    "def compute_similarity(original_texts, summaries):\n",
    "    embeddings_orig = similarity_model.encode(original_texts, convert_to_tensor=True).cpu().numpy()\n",
    "    embeddings_sum = similarity_model.encode(summaries, convert_to_tensor=True).cpu().numpy()\n",
    "    sims = cosine_similarity(embeddings_orig, embeddings_sum)\n",
    "    # Diagonal contains similarity of each summary to its own original text\n",
    "    return [sims[i, i] for i in range(len(original_texts))]\n",
    "\n",
    "# Apply to all summaries\n",
    "t5_sim = compute_similarity(cleaned_texts, t5_summaries)\n",
    "bart_sim = compute_similarity(cleaned_texts, bart_summaries)\n",
    "pegasus_sim = compute_similarity(cleaned_texts, pegasus_summaries)\n",
    "\n",
    "sim_df = pd.DataFrame({\n",
    "    'T5': t5_sim,\n",
    "    'BART': bart_sim,\n",
    "    'PEGASUS': pegasus_sim\n",
    "})\n",
    "print(sim_df)\n",
    "\n"
   ]
  },
  {
   "cell_type": "markdown",
   "metadata": {},
   "source": [
    "**STEP 6.5**: Similarity to Original Calculation for Paraphrasing"
   ]
  },
  {
   "cell_type": "code",
   "execution_count": 109,
   "metadata": {},
   "outputs": [
    {
     "name": "stdout",
     "output_type": "stream",
     "text": [
      "         T5      BART   PEGASUS\n",
      "0  0.736641  0.730177  0.247895\n",
      "1  0.794357  0.634907  0.279839\n"
     ]
    }
   ],
   "source": [
    "# Function to compute best similarity for paraphrases\n",
    "def paraphrase_similarity(summaries, paraphrases_list):\n",
    "    best_sims = []\n",
    "    for orig, paras in zip(summaries, paraphrases_list):\n",
    "        if not paras:\n",
    "            best_sims.append(0.0)\n",
    "            continue\n",
    "\n",
    "        # Flatten nested lists if any\n",
    "        if isinstance(paras[0], list):\n",
    "            paras = [p for sub in paras for p in sub]\n",
    "\n",
    "        try:\n",
    "            # Encode and move to CPU numpy\n",
    "            embeddings_orig = similarity_model.encode([orig], convert_to_tensor=True).cpu().numpy().reshape(1, -1)\n",
    "            embeddings_paras = similarity_model.encode(paras, convert_to_tensor=True).cpu().numpy()\n",
    "            if embeddings_paras.ndim == 1:\n",
    "                embeddings_paras = embeddings_paras.reshape(1, -1)\n",
    "\n",
    "            # Compute cosine similarities\n",
    "            sims = cosine_similarity(embeddings_orig, embeddings_paras)\n",
    "            best_sims.append(float(sims.max()))\n",
    "        except Exception as e:\n",
    "            print(f\"⚠️ Skipping paraphrase due to error: {e}\")\n",
    "            best_sims.append(0.0)\n",
    "            continue\n",
    "\n",
    "    return best_sims\n",
    "\n",
    "# Compute similarity for each model\n",
    "t5_para_sim = paraphrase_similarity(t5_summaries, t5_paraphrases)\n",
    "bart_para_sim = paraphrase_similarity(bart_summaries, bart_paraphrases)\n",
    "pegasus_para_sim = paraphrase_similarity(pegasus_summaries, pegasus_paraphrases)\n",
    "\n",
    "# Display in DataFrame\n",
    "para_sim_df = pd.DataFrame({\n",
    "    'T5': t5_para_sim,\n",
    "    'BART': bart_para_sim,\n",
    "    'PEGASUS': pegasus_para_sim\n",
    "}, index=['0', '1'])  # Adjust index for your files\n",
    "\n",
    "print(para_sim_df)\n"
   ]
  },
  {
   "cell_type": "markdown",
   "metadata": {},
   "source": [
    "# **STEP 7**: Original Text vs Generated Text"
   ]
  },
  {
   "cell_type": "markdown",
   "metadata": {},
   "source": [
    "**STEP 7.1**: Summarization with T5, BART and Pegasus Model"
   ]
  },
  {
   "cell_type": "code",
   "execution_count": 110,
   "metadata": {},
   "outputs": [
    {
     "name": "stdout",
     "output_type": "stream",
     "text": [
      "\n",
      "--- File 0 ---\n",
      "\n",
      "Original Text (first 500 chars):\n",
      "*** START OF THE PROJECT GUTENBERG EBOOK 84 *** Frankenstein; or, the Modern Prometheus by Mary Wollstonecraft (Godwin) Shelley CONTENTS Letter 1 Letter 2 Letter 3 Letter 4 Chapter 1 Chapter 2 Chapter 3 Chapter 4 Chapter 5 Chapter 6 Chapter 7 Chapter 8 Chapter 9 Chapter 10 Chapter 11 Chapter 12 Chapter 13 Chapter 14 Chapter 15 Chapter 16 Chapter 17 Chapter 18 Chapter 19 Chapter 20 Chapter 21 Chapter 22 Chapter 23 Chapter 24 Letter 1 _To Mrs. Saville, England._ St. Petersburgh, Dec. 11th, 17 . Yo \n",
      "\n",
      "T5 Summary:\n",
      "cnn's john sutter writes a letter to the editor of a new book . the author's first task is to assure her sister of her welfare and increasing confidence in the success of her undertaking . she writes: \"i will satiate my ardent curiosity with the sight of an part of the world never before visited\" elizabeth mccarthy was a seafarer on several expeditions to the north sea . she devoted her life to studying mathematics, the theory of medicine, and other branches of physical science . her life might have been passed in ease and luxury, but she preferred glory to every enticement wealth placed in her path . cnn's robert mccarthy writes that he has no ambition to lose his life on the post-road between st. Petersburgh and archangel . \"if i succeed, many, many months, perhaps years, will pass before you and you will see me again soon, or never,\" he writes . but he bitterly feels the want of a friend, a man who could sympathise with him . michael hayden: twenty-eight-year-old is more illiterate than many schoolboys of fifteen . he says he needs a friend who would not despise him as romantic, and affection enough to regulate mind . his lieutenant is a man of great courage and enterprise; he is madly desirous of glory, he writes . david rothkopf: my friend's father refused to consent to his mistress marrying her lover . he says he is as silent as a Turk; ignorant carelessness attends him, detracts sympathy he'd command . but he writes: i'll do nothing rashly when the safety of others is committed to marriage . \n",
      "\n",
      "BART Summary:\n",
      "*** START OF THE PROJECT GUTENBERG EBOOK 84 *** Frankenstein; or, the Modern Prometheus by Mary Wollstonecraft (Godwin) Shelley CONTENTS Letter 1 Letter 2 Letter 3 Letter 4 Chapter 1 Chapter 2 Chapter 3 Chapter 4 Chapter 5 Chapter 6 Chapter 7 Chapter 8 Chapter 9 Chapter 10 Chapter 11 Chapter 12 Chapter 13 Chapter 14 Chapter 15 Chapter 16 Chapter 17 Chapter 18 Chapter 19 Chapter 20 Chapter 21 Chapter 22 Chapter 23 Chapter 24 Letter 1 _To Mrs. Saville, England._ St. Petersburgh, Dec. 11th, 17 . You will rejoice to hear that no disaster has accompanied the commencement of an enterprise which you have regarded with such evil forebodings. I arrived here yesterday, and my first task is to assure my dear sister of my welfare and increasing confidence in the success of my undertaking. I am already far north of London, and as I walk in the streets of Petersburgh. I feel a cold northern breeze play upon my cheeks, which braces my nerves and fills me with delight. Do you understand this feeling? This breeze, which has travelled from the regions towards which I am advancing, gives me a foretaste of those icy climes. Inspirited by this wind of promise, my daydream or by ascertaining the secret of the magnet, which, if at all possible, can only be effected by an undertaking such as mine. These reflections have dispelled the agitation with which I began my letter, and I feel my heart glow with an enthusiasm which elevates me to heaven, for nothing contributes so much to tranquillise the mind as a steady purpose a point on which the soul may fix its intellectual eye. This expedition has been the favourite dream of my early years. I have read with ardour the accounts of the various voyages which have been made in the prospect of arriving at the North Pacific Ocean through the seas which surround the pole. You may remember that a history of all the voyages made for purposes of discovery composed the whole of our good Uncle Thomas library. My education was neglected, yet I was passionately fond of reading. These volumes were my study day and night, and my familiarity with them increased that regret which I had felt, as a child, on learning that my father s dying injunction had forbidden my uncle to allow me to embark in a seafaring life. These visions faded when I perused, for the first time, those poets whose effusions entranced my soul and lifted it to heaven. I also became a poet my spirits are often depressed. I am about to proceed on a long and difficult voyage, the emergencies of which will demand all my fortitude: I am required not only to raise the spirits of others, but sometimes to sustain my own, when theirs are failing. This is the most favourable period for travelling in Russia. They fly quickly over the snow in their sledges; the motion is pleasant, and, in my opinion, far more agreeable than that of an English stagecoach. The cold is not excessive, if you are wrapped in furs a dress which I have already adopted, for there is a great difference between walking the deck and remaining seated motionless for hours, when no exercise prevents the blood from actually freezing in your veins. I have no ambition to lose my life on the post-road between St. Petersburgh and Archangel. I shall depart for the latter town in a fortnight or three weeks; and my intention is to hire a ship there, which can easily be done by paying the insurance for the owner, and to engage as many sailors as I think necessary among those who are accustomed to the whale-fishing. I do not intend to sail until the month of June; and when shall I return? Ah, dear sister, how approve or amend my plans. How would such a friend repair the faults of your poor brother! I am too ardent in execution and too impatient of difficulties. But it is a still greater evil to me that I am self-educated: for the first fourteen years of my life I ran wild on a common and read nothing but our Uncle Thomas books of voyages. At that age I became acquainted with the celebrated poets of our own country; but it was only when it had ceased to be in my power to derive its most important benefits from such a conviction that I perceived the necessity of becoming acquainted with more languages than that of my native country. Now I am twenty-eight and am in reality more illiterate than many schoolboys of fifteen. It is true that I have thought more and that my daydreams are more extended and magnificent, but they want (as the painters call it) _keeping;_ and I greatly need a friend who would have sense enough not to despise me as romantic, and affection enough for me to endeavour to regulate my mind. Well, these are useless complaints; I shall certainly find no friend on the wide ocean, nor even here in Archangel, among merchants and seamen. Yet some feelings, unallied to the but she was bathed in tears, and throwing herself at his feet, entreated him to spare her, confessing at the same time that she loved another, but that he was poor, and that her father would never consent to the union. My generous friend reassured the suppliant, and on being informed of the name of her lover, instantly abandoned his pursuit. He had already bought a farm with his money, on which he had designed to pass the remainder of his life; but he bestowed the whole on his rival, together with the remains of his prize-money to purchase stock, and then himself solicited the young woman s father to consent to her marriage with her lover. But the old man decidedly refused, thinking himself bound in honour to my friend, who, when he found the father inexorable, quitted his country, nor returned until he heard that his former mistress was married according to her inclinations. What a noble fellow! you will exclaim. He is so; but then he is wholly uneducated: he is as silent as a Turk, and a kind of ignorant carelessness attends him, which, while it renders his conduct the more astonishing, detracts from the interest and sympathy which otherwise he would command. Yet do not suppose, \n",
      "\n",
      "PEGASUS Summary:\n",
      "A letter written by Mary Shelley to her sister in England about her plans to write a novel about a monster. The following is an extract from Margaret's letter to her sister, who is travelling with her to the Arctic Circle. It is my wish to embark on a voyage of discovery, a journey which will take me to a part of the world never before visited, and which I may tread a land never before imprinted by the foot of man. I shall my ardent curiosity with the sight of a part of the world This is the full text of the letter sent by Sir Isaac Newton to his son, Sir Isaac Newton, on his expedition to the North Pole. My name is Thomas, and I was born in a small village in the north-west of Scotland. It is with great regret that I report that I have failed in my attempt to write a novel. My name is Margaret, and I am a seaman, but I am not a man, and I do not deserve to be. The following is the text of a letter written by Sir Thomas More to the editor of The Sunday Times. The following is a collection of letters from the Walton family, sent to their sister in England. My dear sister, you may deem me romantic, my dear sister, but I bitterly feel the want of a friend. It is a great evil that I am not a friend of your brother. I am too ardent in execution and too impatient of difficulties. I am a man of few friends, and none of them are of much use to me. The following is a letter written by Sir Isaac Newton to his wife, Queen Elizabeth, in which he describes his relationship with the master of his ship. A friend of mine is a man of great wealth, and a great love of his own. My dear friend, who is a Turk, had a mistress, and she was married to an old man. It is with a great deal of regret that I announce that I will not be sailing this year. \n",
      "\n",
      "\n",
      "--- File 1 ---\n",
      "\n",
      "Original Text (first 500 chars):\n",
      "*** START OF THE PROJECT GUTENBERG EBOOK 1342 *** [Illustration: GEORGE ALLEN PUBLISHER 156 CHARING CROSS ROAD LONDON RUSKIN HOUSE ] [Illustration: _Reading Jane s Letters._ _Chap 34._ ] PRIDE. and PREJUDICE by Jane Austen, with a Preface by George Saintsbury and Illustrations by Hugh Thomson [Illustration: 1894] Ruskin 156. Charing House. Cross Road. London George Allen. CHISWICK PRESS:--CHARLES WHITTINGHAM AND CO. TOOKS COURT, CHANCERY LANE, LONDON. [Illustration: _To J. Comyns Carr in acknowl \n",
      "\n",
      "T5 Summary:\n",
      "author: \"there is much more difference as to their best work than in those who are loved by allowance by convention\" \"i think the majority of at least competent votes would be divided between_ Emma _and the present book\" \"the catastrophe of_ Mansfield Park _is admittedly theatrical\" the plot is not elaborate, but connects itself in the strictest way with the course of the story . the elopement of Lydia and Wickham is not, like that of Crawford and Mrs. Rushworth, a coup de th tre . there is no attempt at the hide-and-seek business which contributes no doubt a good deal to the intrigue of Emma . humour of miss austen seems to possess a greater affinity to that of addison than to any other species . there is an insatiable and ruthless delight in roasting and cutting up a fool . a man in the early eighteenth century could push this taste further than a lady . but there is a certain not inhuman or unamiable cruelty . edward mccaffery: cynicism is one of the most misused words in the english language . he says she took epicurean delight in dissecting, in displaying her fools and mean persons . she says hardly anybody born in her decade--that of the eighteenth-century seventies--independently exhibited the full romantic quality . david rothkopf: if her knowledge was not extended, she knew two things only genius knows . he says her realism is real to degree that makes the false reaalism of our own day look merely dead-alive . with Miss Austen the myriad, trivial, unforced strokes build up the picture like magic . \n",
      "\n",
      "BART Summary:\n",
      "*** START OF THE PROJECT GUTENBERG EBOOK 1342 *** [Illustration: GEORGE ALLEN PUBLISHER 156 CHARING CROSS ROAD LONDON RUSKIN HOUSE ] [Illustustration: _Reading Jane s Letters._ _Chap 34._ ] PRIDE. and PREJUDICE by Jane Austen, with a Preface by George Saintsbury and Illustrations by Hugh Thomson [Infustration: 1894] Ruskin 156. Charing House. Cross Road. London George Allen. CHISWICK PRESS:--CHARLES WHITTINGHAM AND CO. TOOKS COURT, CHANCERY LANE, LONDON. [Illusion: _To J. Comyns Carr in acknowledgment of all I owe to his friendship and advice, these illustrations are gratefully inscribed_ _Hugh Thomson_ ] PREFACE. (Illustration] _Walt Whitman has somewhere a fine and just distinction between loving by allowance and loving with personal love. This distinction applies to books as well as to men and women; and in the case of the not very numerous authors who are the objects of the personal affection, it brings a curious consequence with it. There is much more difference as to their best work most perfect, the most characteristic, the more eminently quintessential of its author s works; and for this contention in such narrow space as is permitted to me, I propose here to show cause._ _In the first place, the book (it may be barely necessary to remind the reader) was in its first shape written very early, somewhere about 1796, when Miss Austen was barely twenty-one; though it was revised and finished at Chawton some fifteen years later, and was not published till 1813, only four years before her death. I do not know whether, in this combination of the fresh and vigorous projection of youth, and the critical revision of middle life, there may be traced the distinct superiority in point of construction, which, as it seems to me is not the highest merit of the novel. The plot, though not elaborate, is almost regular enough for Fielding; hardly a character, hardly an incident could be retrenched without loss to the story. The elopement of Lydia and Wickham is not, like that of Crawford and Mrs. Rushworth, a_ coup de th tre; _it connects itself in the strictest way with the course of the story earlier, and brings about the denouement with complete means ultra-critical. But a very badly-built novel which excelled in pathetic or humorous character, or which displayed consummate command of dialogue--perhaps the rarest of all faculties--would be an infinitely better thing than a faultless plot acted and told by puppets with pebbles in their mouths. And despite the ability which Miss Austen has shown in working out the story, I for one should put_ Pride and Prejudice _far lower if it did not contain what seem to me to me the very masterpieces of Ms Austen s humour and of her faculty of character-creation--masterpieces who may indeed admit John Thorpe, the Eltons, Mrs. Norris, and one or two others to their company, but who, in one instance certainly, and perhaps in others, are still superior to them._ _The characteristics of the humour are so subtle and delicate that they are, perhaps, at all times easier to apprehend than to express, and at any particular time likely to be differently apprehended by different persons. To me this humour seems to possess a greater affinity, on the whole, to that of Addison than to any other of the numerous species of this great British genus. The differences of scheme, of time, such as her satire of Mrs. Musgrove s self-deceiving regrets over her son. But this word cynical is one of the most misused in the English language, especially when, by a glaring and gratuitous falsification of its original sense, it is applied, not to rough and snarling invective, but to gentle and oblique satire. If cynicism means the perception of the other side, the sense of the accepted hells beneath, the consciousness that motives are nearly always mixed, and that to seem is not identical with to be--if this be cynicism, then every man and woman who is not a fool, who does not care to live in a fool s paradise, who has knowledge of nature and the world and life, is a cynic. And in that sense Miss Austen certainly was one. She may even have been one in the further sense that, like her own Mr. Bennet, she took an epicurean delight in dissecting, in displaying, in setting at work her fools and her mean persons. I think she did take this delight, and I do not think at all the worse of her for it as a woman, while she was immensely the better-for it as an artist._ _In the gravest fears, when their studies, their ways, their conduct were subject to all those fantastic limits and restrictions against which Mary Wollstonecraft protested with better general sense than particular taste or judgment. Miss Austen, too, drew back when the white frost touched her shoes; but I think she would have made a pretty good journey even in a black one._ _For if her knowledge was not very extended, she knew two things which only genius knows. The one was humanity, and the other was art. On the first head she could not make a mistake; her men, though limited, are true, and her women are, in the old sense, absolute. As to art, if she has never tried idealism, her realism is real to a degree which makes the false realism of our own day look merely dead-alive. Take almost any Frenchman, except the late M. de Maupassant, and watch him laboriously piling up strokes in the hope of giving a complete impression. You get none; you are lucky if, discarding two-thirds of what he gives, you can shape a real impression out of the rest. But with MissAusten the myriad, trivial, unforced strokes build up the picture like magic. Nothing \n",
      "\n",
      "PEGASUS Summary:\n",
      "Jane Austen's letters to Charles Whitman, published in George Allen's George's Allen's Press in 1342, are illustrated by Hugh Thomson and George Saintsbury. To some, Jane Austen is the greatest literary writer of the 20th Century, and to others she is the worst. Emma _is the most popular of the three; it is the most popular of the three, and it is the most popular of the three, and it is the most popular of the three. On the one hand, I declare for Pride and Prejudice _unhesitatingly. Fielding's adaptation of Jane Fairfax's novel is, in my opinion, one of the best of its kind. This is a play which, in my opinion, is the best Pride and Prejudice I have ever seen. It would be a great achievement if a novel could be built into a stage play, and if it could be built into a play at once, and if it could be built into a play at once, and if it could be built into a play at once, and if it could be Pride and Prejudice is one of the greatest comedies of all time, and one of the greatest novels of all time. There is, of course, a great deal in common between Addison and Austen, and there is, of course, a great deal in common between Swift and Fielding, and there is, of course, a great deal in common between Fielding and Smollett, and there is, of course, a The letters of Jane Austen, as they were known in the days of her great-grandmother Lydia Bennet, have been the subject of much debate in recent years. Jane Austen was one of the most cynical writers of her day, and her works are often cynical. The following is an extract from a letter to the editor of The Sunday Times, written by William Cosway, editor of The Sunday Times, on the death of the French artist Auguste Cosway. In her own words, she was a narrow-minded painter, who did not see the world as a whole, but as a microcosm of it. Jane Austen was one of the greatest writers of her time, and she was one of the greatest women of her time, and she was one of the greatest women of her time, and she was one of the greatest women of her time, and she was one of the greatest women of her Jane Austen is one of the greatest writers of the 20th Century, and her work is as good as any I have ever read. \n",
      "\n"
     ]
    }
   ],
   "source": [
    "# Loop through files\n",
    "for i, original in enumerate(cleaned_texts):\n",
    "    print(f\"\\n--- File {i} ---\\n\")\n",
    "    print(\"Original Text (first 500 chars):\")\n",
    "    print(original[:500], \"\\n\")  # show first 500 chars for brevity\n",
    "\n",
    "    print(\"T5 Summary:\")\n",
    "    print(t5_summaries[i], \"\\n\")\n",
    "\n",
    "    print(\"BART Summary:\")\n",
    "    print(bart_summaries[i], \"\\n\")\n",
    "\n",
    "    print(\"PEGASUS Summary:\")\n",
    "    print(pegasus_summaries[i], \"\\n\")\n"
   ]
  },
  {
   "cell_type": "markdown",
   "metadata": {},
   "source": [
    "**STEP 7.2**: Paraphrazing with T5, BART and Pegasus Model"
   ]
  },
  {
   "cell_type": "code",
   "execution_count": 111,
   "metadata": {},
   "outputs": [
    {
     "name": "stdout",
     "output_type": "stream",
     "text": [
      "\n",
      "--- File 0 Paraphrases ---\n",
      "\n",
      "T5 Paraphrases:\n",
      "[\"cnn's john sutter writes a letter to the editor of a new book . elizabeth mccarthy was a seafarer on several expeditions to the north sea . she devoted her life to studying mathematics , the theory of medicine , and other branches of physical science . his lieutenant is a man of great courage and enterprise , he is madly desirous of glory , he writes . david rot\", \"cnn's john sutter writes a letter to the editor of a new book . elizabeth mccarthy was a seafarer on several expeditions to the north sea . she devoted her life to studying mathematics , the theory of medicine , and other branches of physical science . his lieutenant is a man of great courage and enterprise , he is madly desirous of glory . david rothkopf: i\"] \n",
      "\n",
      "BART Paraphrases:\n",
      "['*** START OF THE PROJECT GUTENBERG EBOOK 84 *** Frankenstein. I am already far north of London, and I feel my heart glow with an enthusiasm which elevates me to heaven, for nothing contributes so much to tranquillise the mind as a steady purpose. This expedition has been the favourite dream of my early years. I arrived here yesterday, and my first task is to assure my dear sister of my welfare and increasing confidence in the success of my undertaking.', '*** START OF THE PROJECT GUTENBERG EBOOK 84 *** Frankenstein. I am already far north of London, and I feel my heart glow with an enthusiasm which elevates me to heaven. This breeze, which has travelled from the regions towards which I am advancing, gives me a foretaste of those icy climes. I have read with ardour the accounts of the various', 'I am about to proceed on a long and difficult voyage, the emergencies of which will demand all my fortitude, I am required not only to raise the spirits of others, but sometimes to sustain my own when theirs are failing. You may remember that a history of all the voyages made for purposes of discovery composed the whole library of our good Uncle Thomas. These volumes were my study day and night, and my familiarity with them increased that regret which I had felt as a child. I have no ambition to lose my life on the post-road between St. Petersburgh and Archangel. The motion is pleasant and, in my opinion, far more agreeable than that of an English stagecoach.', 'I am about to proceed on a long and difficult voyage, the emergencies of which will demand all my fortitude, I am required not only to raise the spirits of others, but sometimes to sustain my own when theirs are failing. You may remember that a history of all the voyages made for purposes of discovery composed the whole library of our good Uncle Thomas. These volumes were my study day and night, and my familiarity with them increased that regret which I had felt as a child. I shall leave for the latter town in a fortnight or three weeks, when I perused those poets whose effusions entranced my soul and lifted it to heaven.', 'At that age I became acquainted with the celebrated poets of my native country, and to engage as many sailors as I think necessary among those who are accustomed to the whale-fishing. But it is a still greater evil to me that I am too ardent in execution and that my daydreams are more extended and magnificent. I do not intend to sail until the month of June, and I greatly need a friend who would have sense enough not to despise me as romantic, and affection enough for me to endeavour to regulate my mind. Ah, dear sister, how approve or amend my plans.', 'At that age I became acquainted with the celebrated poets of my native country, and to engage as many sailors as I think necessary among those who are accustomed to the whale-fishing. But it is a still greater evil to me that I am too ardent in execution and that my daydreams are more extended and magnificent. I do not intend to sail until the month of June, and I greatly need a friend who would have sense enough not to despise me as romantic, and affection enough for me to endeavour to regulate my mind.', \"He is so, but then he is wholly uneducated, and, while it renders his conduct the more astonishing, detracts from the interest and sympathy he would command. He had already bought a farm with his money, on which he had designed to pass the remainder of his life, but he bestowed the whole on his rival, together with the remains of his prize-money, and then asked the young woman's father to consent to her marriage with her lover. What a noble fellow!\", 'He is so, but then he is wholly uneducated, and, while it renders his conduct the more astonishing, detracts from the interest and sympathy he would command. He had already bought a farm with his money, on which he had designed to pass the remainder of his life, but he bestowed the whole on his rival, together with the remains of his prize-money, and then asked his father to consent to her marriage with her lover. What a noble fellow!'] \n",
      "\n",
      "PEGASUS Paraphrases:\n",
      "Letter 1 Letter 2 Letter 3 Letter 4 Chapter 1 Chapter 2 Chapter 3 Chapter 5 Chapter 7 Chapter 8 Chapter 9 Chapter 10 Chapter \n",
      "\n",
      "\n",
      "--- File 1 Paraphrases ---\n",
      "\n",
      "T5 Paraphrases:\n",
      "['cynicism is one of the most misused words in the English language . he says she took epicurean delight in dissecting , in displaying her fools and mean persons . there is no attempt at the hide-and-seek business which contributes no doubt a good deal to the intrigue of Emma . humour of Miss Austen seems to possess a greater affinity to that of Addison than any other species . the myriad , trivial , unforced', 'cynicism is one of the most misused words in the English language . he says she took epicurean delight in dissecting , in displaying her fools and mean persons . there is no attempt at the hide-and-seek business which contributes no doubt a good deal to the intrigue of Emma . humour of miss austen seems to possess a greater affinity to that of addison than any other species . the myriad , trivial , unforced'] \n",
      "\n",
      "BART Paraphrases:\n",
      "[\"*** START of the project GUTENBERG EBOOK 1342 *** [Illustration: GEORGE ALLEN PUBLISHER 156 CHARING CROSS ROAD LONDON RUSKIN HOUSE ) ; there is much more difference as to their best work most perfect, the most characteristic, the more eminently quintessential of its author's works, and for this contention in such narrow space as is permitted to me, I propose here to show cause. The plot, though not elaborate, is not the highest merit of the novel. London George Allen. CHISWICK PRESS:--CHARLES WHITTINGHAM AND CO. TOOKS COURT, CHANCERY LANE.\", \"*** START of the project GUTENBERG EBOOK 1342 *** [Illustration: GEORGE ALLEN PUBLISHER 156 CHARING CROSS ROAD LONDON RUSKIN HOUSE ) ; there is much more difference as to their best work most perfect, the most characteristic, the more eminently quintessential of its author's works, and for this contention in such narrow space as is permitted to me, I propose here to show cause. The plot, though not elaborate, is not the highest merit of the novel. London George Allen. CHISWICK PRESS:--CHARLES WHITTINGHAM AND CO.\", \"Despite the ability which Miss Austen has shown in working out the story, the characteristics of humour are so subtle and delicate that at any particular time, hardly an incident could be retrenched without loss, the elopement of Lydia and Wickham is not, like that of Crawford and Mrs. Rushworth, a `` coup de th tre '', especially when, by a glaring and gratuitous falsification of its original sense, it seems to possess a greater affinity than any other of the numerous species of this great British genus.\", \"And despite the ability which Miss Austen has shown in working out the story, it connects itself with the course of the story earlier, and is likely to be differently apprehended by different persons. To me this humour seems to possess a greater affinity, on the whole, than that of Crawford and Mrs. Rushworth, a `` coup de th tre ''.\", 'I think she did take this delight, and I do not think at all the worse of her as a woman, while she was immensely the better as an artist. If cynicism means the perception of the other side, the sense of the accepted Hells beneath, the consciousness that motives are nearly always mixed, then her realism is real to a degree which makes the false realism of our own day look', 'I think she did take this delight, and I do not think at all the worse of her as a woman, while she was immensely the better as an artist. If cynicism means the perception of the other side, the sense of the accepted Hells beneath, the consciousness that motives are nearly always mixed, then her realism is real to a degree which makes the false realism of our own day absolute.', 'With MissAusten, take almost any Frenchman, except the late M. de Maupassant, and watch him laboriously piling up strokes in the hope of giving a complete impression. You get none, but you are lucky if you can shape a real impression out of the rest.', 'With MissAusten, take almost any Frenchman, except the late M. de Maupassant, and watch him laboriously piling up strokes in the hope of giving a complete impression. You get none, but you are lucky if, discarding two-thirds of what he gives, you can shape a real impression of the rest.'] \n",
      "\n",
      "PEGASUS Paraphrases:\n",
      "The start of the project Gutenberg EBOOK 1334. \n",
      "\n"
     ]
    }
   ],
   "source": [
    "# Loop through files\n",
    "for i in range(len(cleaned_texts)):\n",
    "    print(f\"\\n--- File {i} Paraphrases ---\\n\")\n",
    "\n",
    "    print(\"T5 Paraphrases:\")\n",
    "    print(t5_paraphrases[i], \"\\n\")\n",
    "\n",
    "    print(\"BART Paraphrases:\")\n",
    "    print(bart_paraphrases[i], \"\\n\")\n",
    "\n",
    "    print(\"PEGASUS Paraphrases:\")\n",
    "    print(pegasus_paraphrases[i], \"\\n\")\n"
   ]
  },
  {
   "cell_type": "markdown",
   "metadata": {},
   "source": [
    "# **STEP 8**: Plots,Visualization & Insights\n",
    "Bar charts are used to show comparison between models"
   ]
  },
  {
   "cell_type": "markdown",
   "metadata": {},
   "source": [
    "**STEP 8.1**: Enhanced Summarization Metric Plots"
   ]
  },
  {
   "cell_type": "code",
   "execution_count": 112,
   "metadata": {},
   "outputs": [
    {
     "name": "stdout",
     "output_type": "stream",
     "text": [
      "   T5_length  BART_length  PEGASUS_length    T5_sim  BART_sim  PEGASUS_sim\n",
      "0        274         1073             360  0.364638  0.998928     0.634017\n",
      "1        271          965             425  0.552900  0.961536     0.611819\n"
     ]
    },
    {
     "data": {
      "image/png": "[encoded data removed]",
      "text/plain": [
       "<Figure size 1000x500 with 1 Axes>"
      ]
     },
     "metadata": {},
     "output_type": "display_data"
    },
    {
     "data": {
      "image/png": "[encoded data removed]",
      "text/plain": [
       "<Figure size 1000x500 with 1 Axes>"
      ]
     },
     "metadata": {},
     "output_type": "display_data"
    }
   ],
   "source": [
    "#Enhanced Summarization Comparison\n",
    "summary_comparison_df = pd.DataFrame({\n",
    "    'T5_length': t5_lengths,\n",
    "    'BART_length': bart_lengths,\n",
    "    'PEGASUS_length': pegasus_lengths,\n",
    "    'T5_sim': t5_sim,\n",
    "    'BART_sim': bart_sim,\n",
    "    'PEGASUS_sim': pegasus_sim\n",
    "})\n",
    "print(summary_comparison_df)\n",
    "import matplotlib.pyplot as plt\n",
    "\n",
    "# Summary length comparison\n",
    "length_df.plot(kind='bar', figsize=(10,5), title=\"Summary Lengths\")\n",
    "plt.show()\n",
    "\n",
    "# Similarity comparison\n",
    "sim_df.plot(kind='bar', figsize=(10,5), title=\"Similarity to Original Text\")\n",
    "plt.show()\n",
    "\n"
   ]
  },
  {
   "cell_type": "markdown",
   "metadata": {},
   "source": [
    "**STEP 8.2**: Enhanced Paraphrasing Metrics Plot"
   ]
  },
  {
   "cell_type": "code",
   "execution_count": 114,
   "metadata": {},
   "outputs": [
    {
     "name": "stdout",
     "output_type": "stream",
     "text": [
      "   T5_paraphrase_len  BART_paraphrase_len  PEGASUS_paraphrase_len  \\\n",
      "0                725                 4057                     247   \n",
      "1                821                 3204                      91   \n",
      "\n",
      "   T5_paraphrase_sim  BART_paraphrase_sim  PEGASUS_paraphrase_sim  \n",
      "0           0.736641             0.730177                0.247895  \n",
      "1           0.794357             0.634907                0.279839  \n"
     ]
    },
    {
     "data": {
      "image/png": "[encoded data removed]",
      "text/plain": [
       "<Figure size 1000x500 with 1 Axes>"
      ]
     },
     "metadata": {},
     "output_type": "display_data"
    },
    {
     "data": {
      "image/png": "[encoded data removed]",
      "text/plain": [
       "<Figure size 1000x500 with 1 Axes>"
      ]
     },
     "metadata": {},
     "output_type": "display_data"
    }
   ],
   "source": [
    "# Compute paraphrasing similarity\n",
    "# Make sure paraphrases lists exist: t5_paraphrases, bart_paraphrases, pegasus_paraphrases\n",
    "\n",
    "import pandas as pd\n",
    "import matplotlib.pyplot as plt\n",
    "\n",
    "# Compute paraphrase lengths\n",
    "t5_para_lengths = [len(\" \".join(p)) if p else 0 for p in t5_paraphrases]\n",
    "bart_para_lengths = [len(\" \".join(p)) if p else 0 for p in bart_paraphrases]\n",
    "pegasus_para_lengths = [len(\" \".join(p)) if p else 0 for p in pegasus_paraphrases]\n",
    "\n",
    "# Combine similarity and length in a DataFrame\n",
    "paraphrase_summary_df = pd.DataFrame({\n",
    "    'T5_paraphrase_len': t5_para_lengths,\n",
    "    'BART_paraphrase_len': bart_para_lengths,\n",
    "    'PEGASUS_paraphrase_len': pegasus_para_lengths,\n",
    "    'T5_paraphrase_sim': t5_para_sim,\n",
    "    'BART_paraphrase_sim': bart_para_sim,\n",
    "    'PEGASUS_paraphrase_sim': pegasus_para_sim\n",
    "}, index=['0', '1'])\n",
    "\n",
    "print(paraphrase_summary_df)\n",
    "\n",
    "\n",
    "# Plot paraphrase lengths first\n",
    "para_len_df = paraphrase_summary_df[['T5_paraphrase_len', 'BART_paraphrase_len', 'PEGASUS_paraphrase_len']]\n",
    "para_len_df.plot(kind='bar', figsize=(10,5), title=\"Paraphrase Lengths (Word Count)\")\n",
    "plt.ylabel(\"Total Words in Paraphrases\")\n",
    "plt.xlabel(\"Files\")\n",
    "plt.legend(title=\"Models\")\n",
    "plt.tight_layout()\n",
    "plt.show()\n",
    "\n",
    "# Plot paraphrase similarity next\n",
    "para_sim_df = paraphrase_summary_df[['T5_paraphrase_sim', 'BART_paraphrase_sim', 'PEGASUS_paraphrase_sim']]\n",
    "para_sim_df.plot(kind='bar', figsize=(10,5), title=\"Paraphrasing Similarity to Summaries\")\n",
    "plt.ylabel(\"Cosine Similarity Score\")\n",
    "plt.xlabel(\"Files\")\n",
    "plt.legend(title=\"Models\")\n",
    "plt.tight_layout()\n",
    "plt.show()\n",
    "\n",
    "\n",
    "\n"
   ]
  }
 ],
 "metadata": {},
 "nbformat": 4,
 "nbformat_minor": 0
}
