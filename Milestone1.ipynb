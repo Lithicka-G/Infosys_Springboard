{
  "nbformat": 4,
  "nbformat_minor": 0,
  "metadata": {},
  "cells": [
    {
      "cell_type": "code",
      "source": [
        "# Milestone 1 - Text Summarization using T5 model\n",
        "# ------------------------------------------------\n",
        "# This code summarizes the input text files using t5-base model.\n",
        "\n",
        "!pip install transformers --quiet\n",
        "\n",
        "from transformers import pipeline\n",
        "\n",
        "# Reading the input text files\n",
        "with open('/content/input1.txt', 'r') as f:\n",
        "    text1 = f.read()\n",
        "\n",
        "with open('/content/input2.txt', 'r') as f:\n",
        "    text2 = f.read()\n",
        "\n",
        "# Load the T5 summarization model\n",
        "t5_summarizer = pipeline(\"summarization\", model=\"t5-base\")\n",
        "\n",
        "# Summarize both the input texts\n",
        "print(\"T5 Summarization Results:\\n\")\n",
        "\n",
        "for i, txt in enumerate([text1, text2], 1):\n",
        "    summary = t5_summarizer(txt, max_length=80, min_length=25, do_sample=False)[0]['summary_text']\n",
        "    print(f\"Summary for input{i}:\\n{summary}\\n\")\n"
      ],
      "metadata": {},
      "execution_count": null,
      "outputs": [
        {
          "output_type": "stream",
          "name": "stderr",
          "text": [
            "/usr/local/lib/python3.12/dist-packages/huggingface_hub/utils/_auth.py:94: UserWarning: \n",
            "The secret `HF_TOKEN` does not exist in your Colab secrets.\n",
            "To authenticate with the Hugging Face Hub, create a token in your settings tab (https://huggingface.co/settings/tokens), set it as secret in your Google Colab and restart your session.\n",
            "You will be able to reuse this secret in all of your notebooks.\n",
            "Please note that authentication is recommended but still optional to access public models or datasets.\n",
            "  warnings.warn(\n"
          ]
        },
        {
          "output_type": "display_data",
          "data": {
            "text/plain": [
              "config.json:   0%|          | 0.00/1.21k [00:00<?, ?B/s]"
            ],
            "application/vnd.jupyter.widget-view+json": {
              "version_major": 2,
              "version_minor": 0,
              "model_id": "b9a95b410dac48fcb3dd0945b416ae19"
            }
          },
          "metadata": {}
        },
        {
          "output_type": "display_data",
          "data": {
            "text/plain": [
              "model.safetensors:   0%|          | 0.00/892M [00:00<?, ?B/s]"
            ],
            "application/vnd.jupyter.widget-view+json": {
              "version_major": 2,
              "version_minor": 0,
              "model_id": "ee654e5d55f944c2ad68ae0e6d7494b7"
            }
          },
          "metadata": {}
        },
        {
          "output_type": "display_data",
          "data": {
            "text/plain": [
              "generation_config.json:   0%|          | 0.00/147 [00:00<?, ?B/s]"
            ],
            "application/vnd.jupyter.widget-view+json": {
              "version_major": 2,
              "version_minor": 0,
              "model_id": "95e019c07b5f4371b0d99077525c72ee"
            }
          },
          "metadata": {}
        },
        {
          "output_type": "display_data",
          "data": {
            "text/plain": [
              "spiece.model:   0%|          | 0.00/792k [00:00<?, ?B/s]"
            ],
            "application/vnd.jupyter.widget-view+json": {
              "version_major": 2,
              "version_minor": 0,
              "model_id": "5f02d40955a94b8093d9a3f67bc47a92"
            }
          },
          "metadata": {}
        },
        {
          "output_type": "display_data",
          "data": {
            "text/plain": [
              "tokenizer.json:   0%|          | 0.00/1.39M [00:00<?, ?B/s]"
            ],
            "application/vnd.jupyter.widget-view+json": {
              "version_major": 2,
              "version_minor": 0,
              "model_id": "694b9d2e35fb436fa856ac24252b147b"
            }
          },
          "metadata": {}
        },
        {
          "output_type": "stream",
          "name": "stderr",
          "text": [
            "Device set to use cpu\n"
          ]
        },
        {
          "output_type": "stream",
          "name": "stdout",
          "text": [
            "T5 Summarization Results:\n",
            "\n"
          ]
        },
        {
          "output_type": "stream",
          "name": "stderr",
          "text": [
            "Both `max_new_tokens` (=256) and `max_length`(=80) seem to have been set. `max_new_tokens` will take precedence. Please refer to the documentation for more information. (https://huggingface.co/docs/transformers/main/en/main_classes/text_generation)\n"
          ]
        },
        {
          "output_type": "stream",
          "name": "stdout",
          "text": [
            "Summary for input1:\n",
            "chatbots that handle customer queries to predictive models that guide business strategy . tech raises important questions about ethics, job displacement and the need for new skills . companies are now balancing the excitement of innovation with the responsibility of ensuring fairness .\n",
            "\n"
          ]
        },
        {
          "output_type": "stream",
          "name": "stderr",
          "text": [
            "Both `max_new_tokens` (=256) and `max_length`(=80) seem to have been set. `max_new_tokens` will take precedence. Please refer to the documentation for more information. (https://huggingface.co/docs/transformers/main/en/main_classes/text_generation)\n"
          ]
        },
        {
          "output_type": "stream",
          "name": "stdout",
          "text": [
            "Summary for input2:\n",
            "rising global temperatures, melting glaciers highlight the urgency of climate change . meaningful progress requires global cooperation, strong policy frameworks, says dr. sanjay gupta . he says a shift in lifestyles will create a sustainable future for the next generation .\n",
            "\n"
          ]
        }
      ]
    },
    {
      "cell_type": "code",
      "source": [
        "# Milestone 1 - Text Summarization using BART model\n",
        "# --------------------------------------------------\n",
        "# This code summarizes input text using bart-large-cnn model.\n",
        "\n",
        "!pip install transformers --quiet\n",
        "\n",
        "from transformers import pipeline\n",
        "\n",
        "# Reading the input text files\n",
        "with open('/content/input1.txt', 'r') as f:\n",
        "    text1 = f.read()\n",
        "\n",
        "with open('/content/input2.txt', 'r') as f:\n",
        "    text2 = f.read()\n",
        "\n",
        "# Load the BART summarization model\n",
        "bart_summarizer = pipeline(\"summarization\", model=\"facebook/bart-large-cnn\")\n",
        "\n",
        "# Summarize both input texts\n",
        "print(\"BART Summarization Results:\\n\")\n",
        "\n",
        "for i, txt in enumerate([text1, text2], 1):\n",
        "    summary = bart_summarizer(txt, max_length=80, min_length=25, do_sample=False)[0]['summary_text']\n",
        "    print(f\"Summary for input{i}:\\n{summary}\\n\")\n"
      ],
      "metadata": {},
      "execution_count": null,
      "outputs": [
        {
          "output_type": "display_data",
          "data": {
            "text/plain": [
              "config.json: 0.00B [00:00, ?B/s]"
            ],
            "application/vnd.jupyter.widget-view+json": {
              "version_major": 2,
              "version_minor": 0,
              "model_id": "e48b17e1a788451c91332bf2c635ee42"
            }
          },
          "metadata": {}
        },
        {
          "output_type": "display_data",
          "data": {
            "text/plain": [
              "model.safetensors:   0%|          | 0.00/1.63G [00:00<?, ?B/s]"
            ],
            "application/vnd.jupyter.widget-view+json": {
              "version_major": 2,
              "version_minor": 0,
              "model_id": "c52ea75af87a4e3080a8d250f50e37d2"
            }
          },
          "metadata": {}
        },
        {
          "output_type": "display_data",
          "data": {
            "text/plain": [
              "generation_config.json:   0%|          | 0.00/363 [00:00<?, ?B/s]"
            ],
            "application/vnd.jupyter.widget-view+json": {
              "version_major": 2,
              "version_minor": 0,
              "model_id": "3f4fc55908c0455ead5e1b7b98931ca2"
            }
          },
          "metadata": {}
        },
        {
          "output_type": "display_data",
          "data": {
            "text/plain": [
              "vocab.json: 0.00B [00:00, ?B/s]"
            ],
            "application/vnd.jupyter.widget-view+json": {
              "version_major": 2,
              "version_minor": 0,
              "model_id": "ef63dbd388ec4ca59cd2da67ab66b79e"
            }
          },
          "metadata": {}
        },
        {
          "output_type": "display_data",
          "data": {
            "text/plain": [
              "merges.txt: 0.00B [00:00, ?B/s]"
            ],
            "application/vnd.jupyter.widget-view+json": {
              "version_major": 2,
              "version_minor": 0,
              "model_id": "83f00cc32e88475c9affb046d4776198"
            }
          },
          "metadata": {}
        },
        {
          "output_type": "display_data",
          "data": {
            "text/plain": [
              "tokenizer.json: 0.00B [00:00, ?B/s]"
            ],
            "application/vnd.jupyter.widget-view+json": {
              "version_major": 2,
              "version_minor": 0,
              "model_id": "13e6b6dd87a1438db51552739da43cae"
            }
          },
          "metadata": {}
        },
        {
          "output_type": "stream",
          "name": "stderr",
          "text": [
            "Device set to use cpu\n"
          ]
        },
        {
          "output_type": "stream",
          "name": "stdout",
          "text": [
            "BART Summarization Results:\n",
            "\n",
            "Summary for input1:\n",
            "AI applications are becoming deeply integrated into everyday operations. While the technology offers greater efficiency and insights, it also raises important questions about ethics, job displacement, and the need for new skills in the workforce.\n",
            "\n",
            "Summary for input2:\n",
            "Climate change has emerged as one of the most pressing challenges of our time. Rising global temperatures, melting glaciers, and more frequent natural disasters highlight the urgency of the issue. Governments are investing in renewable energy and industries are adopting greener practices.\n",
            "\n"
          ]
        }
      ]
    },
    {
      "cell_type": "code",
      "source": [
        "# Milestone 1 - Text Summarization using Pegasus-XSum model\n",
        "# ----------------------------------------------------------\n",
        "# This code summarizes input text using the google/pegasus-xsum model.\n",
        "\n",
        "!pip install transformers --quiet\n",
        "\n",
        "from transformers import pipeline\n",
        "\n",
        "# Reading input text files\n",
        "with open('/content/input1.txt', 'r') as f:\n",
        "    text1 = f.read()\n",
        "\n",
        "with open('/content/input2.txt', 'r') as f:\n",
        "    text2 = f.read()\n",
        "\n",
        "# Load the Pegasus summarization model\n",
        "pegasus_summarizer = pipeline(\"summarization\", model=\"google/pegasus-xsum\")\n",
        "\n",
        "# Summarize both input texts\n",
        "print(\"Pegasus Summarization Results:\\n\")\n",
        "\n",
        "for i, txt in enumerate([text1, text2], 1):\n",
        "    summary = pegasus_summarizer(txt, max_length=80, min_length=25, do_sample=False)[0]['summary_text']\n",
        "    print(f\"Summary for input{i}:\\n{summary}\\n\")\n"
      ],
      "metadata": {},
      "execution_count": null,
      "outputs": [
        {
          "output_type": "display_data",
          "data": {
            "text/plain": [
              "config.json: 0.00B [00:00, ?B/s]"
            ],
            "application/vnd.jupyter.widget-view+json": {
              "version_major": 2,
              "version_minor": 0,
              "model_id": "da6bb45a73c14ee88c424714ba764864"
            }
          },
          "metadata": {}
        },
        {
          "output_type": "display_data",
          "data": {
            "text/plain": [
              "pytorch_model.bin:   0%|          | 0.00/2.28G [00:00<?, ?B/s]"
            ],
            "application/vnd.jupyter.widget-view+json": {
              "version_major": 2,
              "version_minor": 0,
              "model_id": "64b49d3672a04d4f9f92414f5cf77959"
            }
          },
          "metadata": {}
        },
        {
          "output_type": "display_data",
          "data": {
            "text/plain": [
              "model.safetensors:   0%|          | 0.00/2.28G [00:00<?, ?B/s]"
            ],
            "application/vnd.jupyter.widget-view+json": {
              "version_major": 2,
              "version_minor": 0,
              "model_id": "3e6bc0ef1bc745c9ad55c3b4c51e19a8"
            }
          },
          "metadata": {}
        },
        {
          "output_type": "stream",
          "name": "stderr",
          "text": [
            "Some weights of PegasusForConditionalGeneration were not initialized from the model checkpoint at google/pegasus-xsum and are newly initialized: ['model.decoder.embed_positions.weight', 'model.encoder.embed_positions.weight']\n",
            "You should probably TRAIN this model on a down-stream task to be able to use it for predictions and inference.\n"
          ]
        },
        {
          "output_type": "display_data",
          "data": {
            "text/plain": [
              "generation_config.json:   0%|          | 0.00/259 [00:00<?, ?B/s]"
            ],
            "application/vnd.jupyter.widget-view+json": {
              "version_major": 2,
              "version_minor": 0,
              "model_id": "fbadfe76f4c64b03a010d3472c38eff7"
            }
          },
          "metadata": {}
        },
        {
          "output_type": "display_data",
          "data": {
            "text/plain": [
              "tokenizer_config.json:   0%|          | 0.00/87.0 [00:00<?, ?B/s]"
            ],
            "application/vnd.jupyter.widget-view+json": {
              "version_major": 2,
              "version_minor": 0,
              "model_id": "baa8d6faa3d04c05919fa8db507aed80"
            }
          },
          "metadata": {}
        },
        {
          "output_type": "display_data",
          "data": {
            "text/plain": [
              "spiece.model:   0%|          | 0.00/1.91M [00:00<?, ?B/s]"
            ],
            "application/vnd.jupyter.widget-view+json": {
              "version_major": 2,
              "version_minor": 0,
              "model_id": "398c53ef22134b049983b4aa10fccca6"
            }
          },
          "metadata": {}
        },
        {
          "output_type": "display_data",
          "data": {
            "text/plain": [
              "tokenizer.json: 0.00B [00:00, ?B/s]"
            ],
            "application/vnd.jupyter.widget-view+json": {
              "version_major": 2,
              "version_minor": 0,
              "model_id": "358302b9aea34239be3f1aa83f2748d7"
            }
          },
          "metadata": {}
        },
        {
          "output_type": "display_data",
          "data": {
            "text/plain": [
              "special_tokens_map.json:   0%|          | 0.00/65.0 [00:00<?, ?B/s]"
            ],
            "application/vnd.jupyter.widget-view+json": {
              "version_major": 2,
              "version_minor": 0,
              "model_id": "2859013ad9cd469a8f24bf992b39e1fd"
            }
          },
          "metadata": {}
        },
        {
          "output_type": "stream",
          "name": "stderr",
          "text": [
            "Device set to use cpu\n"
          ]
        },
        {
          "output_type": "stream",
          "name": "stdout",
          "text": [
            "Pegasus Summarization Results:\n",
            "\n",
            "Summary for input1:\n",
            "In our series of letters from African journalists, film-maker and columnist Ahmed Rashid looks at some of the ways artificial intelligence is changing the way we work.\n",
            "\n",
            "Summary for input2:\n",
            "The United Nations Framework Convention on Climate Change (UNFCCC) is the world's most important international agreement on climate change.\n",
            "\n"
          ]
        }
      ]
    },
    {
      "cell_type": "code",
      "source": [
        "# Milestone 1 - Text Paraphrasing using T5 model\n",
        "# -----------------------------------------------\n",
        "# This code creates paraphrased versions of input texts using T5 paraphrase model.\n",
        "\n",
        "!pip install transformers --quiet\n",
        "\n",
        "from transformers import pipeline\n",
        "\n",
        "# Reading input text files\n",
        "with open('/content/input1.txt', 'r') as f:\n",
        "    text1 = f.read()\n",
        "\n",
        "with open('/content/input2.txt', 'r') as f:\n",
        "    text2 = f.read()\n",
        "\n",
        "# Load the T5 paraphrasing model\n",
        "t5_para = pipeline(\"text2text-generation\", model=\"Vamsi/T5_Paraphrase_Paws\")\n",
        "\n",
        "# Generate paraphrased outputs\n",
        "print(\"T5 Paraphrasing Results:\\n\")\n",
        "\n",
        "for i, txt in enumerate([text1, text2], 1):\n",
        "    para = t5_para(txt, max_length=100, do_sample=True, top_k=50, top_p=0.95)[0]['generated_text']\n",
        "    print(f\"Paraphrase for input{i}:\\n{para}\\n\")\n"
      ],
      "metadata": {},
      "execution_count": null,
      "outputs": [
        {
          "output_type": "display_data",
          "data": {
            "text/plain": [
              "config.json: 0.00B [00:00, ?B/s]"
            ],
            "application/vnd.jupyter.widget-view+json": {
              "version_major": 2,
              "version_minor": 0,
              "model_id": "da78f2fd80bc4fc585a6ce8a56189eed"
            }
          },
          "metadata": {}
        },
        {
          "output_type": "display_data",
          "data": {
            "text/plain": [
              "model.safetensors:   0%|          | 0.00/892M [00:00<?, ?B/s]"
            ],
            "application/vnd.jupyter.widget-view+json": {
              "version_major": 2,
              "version_minor": 0,
              "model_id": "af765d072bd24d309d51469a07ef20f3"
            }
          },
          "metadata": {}
        },
        {
          "output_type": "display_data",
          "data": {
            "text/plain": [
              "tokenizer_config.json:   0%|          | 0.00/25.0 [00:00<?, ?B/s]"
            ],
            "application/vnd.jupyter.widget-view+json": {
              "version_major": 2,
              "version_minor": 0,
              "model_id": "073df612324c424db3184133dc77ecab"
            }
          },
          "metadata": {}
        },
        {
          "output_type": "display_data",
          "data": {
            "text/plain": [
              "spiece.model:   0%|          | 0.00/792k [00:00<?, ?B/s]"
            ],
            "application/vnd.jupyter.widget-view+json": {
              "version_major": 2,
              "version_minor": 0,
              "model_id": "349a81979b8746219999518ed9a833b4"
            }
          },
          "metadata": {}
        },
        {
          "output_type": "display_data",
          "data": {
            "text/plain": [
              "special_tokens_map.json: 0.00B [00:00, ?B/s]"
            ],
            "application/vnd.jupyter.widget-view+json": {
              "version_major": 2,
              "version_minor": 0,
              "model_id": "4e8897c8fbfb4a29b4d9f0ef132abfbb"
            }
          },
          "metadata": {}
        },
        {
          "output_type": "stream",
          "name": "stderr",
          "text": [
            "You are using the default legacy behaviour of the <class 'transformers.models.t5.tokenization_t5.T5Tokenizer'>. This is expected, and simply means that the `legacy` (previous) behavior will be used so nothing changes for you. If you want to use the new behaviour, set `legacy=False`. This should only be set if you understand what it means, and thoroughly read the reason why this was added as explained in https://github.com/huggingface/transformers/pull/24565\n",
            "Device set to use cpu\n"
          ]
        },
        {
          "output_type": "stream",
          "name": "stdout",
          "text": [
            "T5 Paraphrasing Results:\n",
            "\n"
          ]
        },
        {
          "output_type": "stream",
          "name": "stderr",
          "text": [
            "Both `max_new_tokens` (=256) and `max_length`(=100) seem to have been set. `max_new_tokens` will take precedence. Please refer to the documentation for more information. (https://huggingface.co/docs/transformers/main/en/main_classes/text_generation)\n"
          ]
        },
        {
          "output_type": "stream",
          "name": "stdout",
          "text": [
            "Paraphrase for input1:\n",
            "While the technology offers greater efficiency and insights to predictive models that guide business strategy, it also raises important questions about ethics, job displacement and the need for new skills in the workforce . Companies are now balancing the excitement of innovation with the responsibility of ensuring fairness, transparency and inclusivity .\n",
            "\n"
          ]
        },
        {
          "output_type": "stream",
          "name": "stderr",
          "text": [
            "Both `max_new_tokens` (=256) and `max_length`(=100) seem to have been set. `max_new_tokens` will take precedence. Please refer to the documentation for more information. (https://huggingface.co/docs/transformers/main/en/main_classes/text_generation)\n"
          ]
        },
        {
          "output_type": "stream",
          "name": "stdout",
          "text": [
            "Paraphrase for input2:\n",
            "Climate change has emerged as one of the most pressing challenges of our time. Rising global temperatures, melting glaciers and more frequent natural disasters highlight the urgency of the issue. Governments are investing in renewable energy, industries are adopting greener practices and communities are working together to build resilience . However, meaningful progress requires global cooperation, strong policy frameworks and a shift in individual lifestyles to create a sustainable future for the next generation .\n",
            "\n"
          ]
        }
      ]
    },
    {
      "cell_type": "code",
      "source": [
        "# Milestone 1 - Text Paraphrasing using BART model\n",
        "# -------------------------------------------------\n",
        "# This code creates paraphrased versions of the input text using bart-paraphrase model.\n",
        "\n",
        "!pip install transformers --quiet\n",
        "\n",
        "from transformers import pipeline\n",
        "\n",
        "# Reading input text files\n",
        "with open('/content/input1.txt', 'r') as f:\n",
        "    text1 = f.read()\n",
        "\n",
        "with open('/content/input2.txt', 'r') as f:\n",
        "    text2 = f.read()\n",
        "\n",
        "# Load the BART paraphrasing model\n",
        "bart_para = pipeline(\"text2text-generation\", model=\"eugenesiow/bart-paraphrase\")\n",
        "\n",
        "# Generate paraphrased outputs\n",
        "print(\"BART Paraphrasing Results:\\n\")\n",
        "\n",
        "for i, txt in enumerate([text1, text2], 1):\n",
        "    para = bart_para(txt, max_length=100, do_sample=True, top_k=50, top_p=0.95)[0]['generated_text']\n",
        "    print(f\"Paraphrase for input{i}:\\n{para}\\n\")\n"
      ],
      "metadata": {},
      "execution_count": null,
      "outputs": [
        {
          "output_type": "display_data",
          "data": {
            "text/plain": [
              "config.json: 0.00B [00:00, ?B/s]"
            ],
            "application/vnd.jupyter.widget-view+json": {
              "version_major": 2,
              "version_minor": 0,
              "model_id": "d64c5ef4d5e9439a993718b250162e61"
            }
          },
          "metadata": {}
        },
        {
          "output_type": "display_data",
          "data": {
            "text/plain": [
              "model.safetensors:   0%|          | 0.00/1.63G [00:00<?, ?B/s]"
            ],
            "application/vnd.jupyter.widget-view+json": {
              "version_major": 2,
              "version_minor": 0,
              "model_id": "6a0127c941fb4d3e89c381c906e70501"
            }
          },
          "metadata": {}
        },
        {
          "output_type": "display_data",
          "data": {
            "text/plain": [
              "tokenizer_config.json:   0%|          | 0.00/332 [00:00<?, ?B/s]"
            ],
            "application/vnd.jupyter.widget-view+json": {
              "version_major": 2,
              "version_minor": 0,
              "model_id": "e4156437861c41e0af6246c9dba6a67f"
            }
          },
          "metadata": {}
        },
        {
          "output_type": "display_data",
          "data": {
            "text/plain": [
              "vocab.json: 0.00B [00:00, ?B/s]"
            ],
            "application/vnd.jupyter.widget-view+json": {
              "version_major": 2,
              "version_minor": 0,
              "model_id": "5d8f17e64f9b49f78bf6135986cfbe5a"
            }
          },
          "metadata": {}
        },
        {
          "output_type": "display_data",
          "data": {
            "text/plain": [
              "merges.txt: 0.00B [00:00, ?B/s]"
            ],
            "application/vnd.jupyter.widget-view+json": {
              "version_major": 2,
              "version_minor": 0,
              "model_id": "5476d98ecd394afd91da9e807ea51b8a"
            }
          },
          "metadata": {}
        },
        {
          "output_type": "display_data",
          "data": {
            "text/plain": [
              "tokenizer.json: 0.00B [00:00, ?B/s]"
            ],
            "application/vnd.jupyter.widget-view+json": {
              "version_major": 2,
              "version_minor": 0,
              "model_id": "094a93c7d5e0486cb4abc02f68263609"
            }
          },
          "metadata": {}
        },
        {
          "output_type": "display_data",
          "data": {
            "text/plain": [
              "special_tokens_map.json:   0%|          | 0.00/239 [00:00<?, ?B/s]"
            ],
            "application/vnd.jupyter.widget-view+json": {
              "version_major": 2,
              "version_minor": 0,
              "model_id": "c217b9aa556740cc9dfe9fdffc84f0c1"
            }
          },
          "metadata": {}
        },
        {
          "output_type": "stream",
          "name": "stderr",
          "text": [
            "Device set to use cpu\n"
          ]
        },
        {
          "output_type": "stream",
          "name": "stdout",
          "text": [
            "BART Paraphrasing Results:\n",
            "\n"
          ]
        },
        {
          "output_type": "stream",
          "name": "stderr",
          "text": [
            "Both `max_new_tokens` (=256) and `max_length`(=100) seem to have been set. `max_new_tokens` will take precedence. Please refer to the documentation for more information. (https://huggingface.co/docs/transformers/main/en/main_classes/text_generation)\n"
          ]
        },
        {
          "output_type": "stream",
          "name": "stdout",
          "text": [
            "Paraphrase for input1:\n",
            "Artificial Intelligence is revolutionizing the modern workplace. From chatbots that handle customer queries to predictive models that guide business strategy, AI applications are becoming deeply integrated into everyday operations. While the technology offers greater efficiency and insights, it also raises important questions about ethics, job displacement and the need for new skills in the workforce.\n",
            "\n"
          ]
        },
        {
          "output_type": "stream",
          "name": "stderr",
          "text": [
            "Both `max_new_tokens` (=256) and `max_length`(=100) seem to have been set. `max_new_tokens` will take precedence. Please refer to the documentation for more information. (https://huggingface.co/docs/transformers/main/en/main_classes/text_generation)\n"
          ]
        },
        {
          "output_type": "stream",
          "name": "stdout",
          "text": [
            "Paraphrase for input2:\n",
            "Climate change has emerged as one of the most pressing challenges of our time. Rising global temperatures, melting glaciers and more frequent natural disasters highlight the urgency of the issue. Governments are investing in renewable energy, industries are adopting greener practices and communities are working together to build resilience.\n",
            "\n"
          ]
        }
      ]
    },
    {
      "cell_type": "code",
      "source": [
        "# Milestone 1 - Text Paraphrasing using Pegasus model\n",
        "# ----------------------------------------------------\n",
        "# This code generates paraphrases using tuner007/pegasus_paraphrase model.\n",
        "!pip install transformers --quiet\n",
        "\n",
        "from transformers import PegasusTokenizer, PegasusForConditionalGeneration\n",
        "\n",
        "# Load the model\n",
        "model_name = \"tuner007/pegasus_paraphrase\"\n",
        "tokenizer = PegasusTokenizer.from_pretrained(model_name)\n",
        "model = PegasusForConditionalGeneration.from_pretrained(model_name)\n",
        "\n",
        "# Simple paraphrase function\n",
        "def simple_paraphrase(text, max_words=60):\n",
        "    words = text.split()\n",
        "    text_to_use = \" \".join(words[:max_words])  # truncate long text\n",
        "    inputs = tokenizer(text_to_use, truncation=True, max_length=max_words, return_tensors=\"pt\")\n",
        "    outputs = model.generate(inputs[\"input_ids\"], max_length=100, do_sample=True, top_k=50, top_p=0.95)\n",
        "    return tokenizer.decode(outputs[0], skip_special_tokens=True)\n",
        "\n",
        "# Read the input files\n",
        "with open(\"input1.txt\", \"r\", encoding=\"utf-8\") as f:\n",
        "    input1 = f.read()\n",
        "\n",
        "with open(\"input2.txt\", \"r\", encoding=\"utf-8\") as f:\n",
        "    input2 = f.read()\n",
        "\n",
        "# Paraphrase both inputs\n",
        "paraphrased1 = simple_paraphrase(input1)\n",
        "paraphrased2 = simple_paraphrase(input2)\n",
        "\n",
        "# Print the results\n",
        "print(\"Paraphrased Input 1:\\n\", paraphrased1)\n",
        "print(\"\\nParaphrased Input 2:\\n\", paraphrased2)\n",
        "\n",
        "\n"
      ],
      "metadata": {},
      "execution_count": null,
      "outputs": [
        {
          "output_type": "stream",
          "name": "stderr",
          "text": [
            "Some weights of PegasusForConditionalGeneration were not initialized from the model checkpoint at tuner007/pegasus_paraphrase and are newly initialized: ['model.decoder.embed_positions.weight', 'model.encoder.embed_positions.weight']\n",
            "You should probably TRAIN this model on a down-stream task to be able to use it for predictions and inference.\n"
          ]
        },
        {
          "output_type": "stream",
          "name": "stdout",
          "text": [
            "Paraphrased Input 1:\n",
            " Artificial intelligence is changing the workplace, but it also raises important questions about ethics, job displacement, and the need for new skills.\n",
            "\n",
            "Paraphrased Input 2:\n",
            " Climate change is one of the most pressing issues of our time.\n"
          ]
        }
      ]
    },
    {
      "cell_type": "code",
      "source": [
        "# Milestone 1 - CPU-Optimized Model Comparison (Fixed BLEU)\n",
        "# -------------------------------------------------\n",
        "# Uses simple split instead of NLTK tokenizers to avoid LookupError\n",
        "\n",
        "!pip install transformers datasets nltk matplotlib rouge-score evaluate --quiet\n",
        "\n",
        "from transformers import pipeline\n",
        "from nltk.translate.bleu_score import sentence_bleu, SmoothingFunction\n",
        "import matplotlib.pyplot as plt\n",
        "import evaluate\n",
        "\n",
        "# -------------------------\n",
        "# Step 1: Load Input Texts\n",
        "# -------------------------\n",
        "with open('/content/input1.txt', 'r') as f:\n",
        "    text1 = f.read()\n",
        "with open('/content/input2.txt', 'r') as f:\n",
        "    text2 = f.read()\n",
        "\n",
        "texts = [text1, text2]\n",
        "\n",
        "# -------------------------\n",
        "# Step 2: Load CPU-Friendly Models\n",
        "# -------------------------\n",
        "summarizer = pipeline(\"summarization\", model=\"t5-small\")\n",
        "paraphraser = pipeline(\"text2text-generation\", model=\"Vamsi/T5_Paraphrase_Paws\")\n",
        "\n",
        "# -------------------------\n",
        "# Step 3: Generate Summaries\n",
        "# -------------------------\n",
        "summaries = []\n",
        "print(\"Generating summaries...\")\n",
        "for txt in texts:\n",
        "    txt_short = \" \".join(txt.split()[:40])  # limit to first 40 words\n",
        "    summary = summarizer(txt_short, max_length=80, min_length=25, do_sample=False)[0]['summary_text']\n",
        "    summaries.append(summary)\n",
        "print(\" Summaries generated!\\n\")\n",
        "\n",
        "# -------------------------\n",
        "# Step 4: Generate Paraphrases\n",
        "# -------------------------\n",
        "smooth = SmoothingFunction().method1\n",
        "paraphrases = []\n",
        "print(\"Generating paraphrases...\")\n",
        "for txt in texts:\n",
        "    txt_short = \" \".join(txt.split()[:40])  # limit to first 40 words\n",
        "    output = paraphraser(txt_short, max_length=100, do_sample=False)[0]  # greedy decoding\n",
        "    paraphrases.append(output.get('generated_text') or output.get('summary_text') or txt_short)\n",
        "print(\" Paraphrases generated!\\n\")\n",
        "\n",
        "# -------------------------\n",
        "# Step 5: Evaluate ROUGE (Summarization)\n",
        "# -------------------------\n",
        "rouge = evaluate.load(\"rouge\")\n",
        "rouge_scores = []\n",
        "for summary, ref in zip(summaries, texts):\n",
        "    score = rouge.compute(predictions=[summary], references=[ref])['rougeL']  # float\n",
        "    rouge_scores.append(score)\n",
        "avg_rouge = sum(rouge_scores)/len(rouge_scores)\n",
        "\n",
        "# -------------------------\n",
        "# Step 6: Evaluate BLEU (Paraphrasing)\n",
        "# -------------------------\n",
        "bleu_scores = []\n",
        "for para, ref_text in zip(paraphrases, texts):\n",
        "    ref = ref_text.split()   # simple whitespace split\n",
        "    cand = para.split()      # simple whitespace split\n",
        "    bleu_scores.append(sentence_bleu([ref], cand, smoothing_function=smooth))\n",
        "avg_bleu = sum(bleu_scores)/len(bleu_scores)\n",
        "\n",
        "# -------------------------\n",
        "# Step 7: Visualization\n",
        "# -------------------------\n",
        "plt.figure(figsize=(6,4))\n",
        "plt.bar(['T5-small'], [avg_rouge], color='skyblue')\n",
        "plt.title(\"Summarization Model (ROUGE-L Score)\")\n",
        "plt.ylabel(\"ROUGE-L\")\n",
        "plt.show()\n",
        "\n",
        "plt.figure(figsize=(6,4))\n",
        "plt.bar(['T5-small'], [avg_bleu], color='pink')\n",
        "plt.title(\"Paraphrasing Model (BLEU Score)\")\n",
        "plt.ylabel(\"BLEU\")\n",
        "plt.show()\n",
        "\n",
        "# -------------------------\n",
        "# Step 8: Display Final Scores\n",
        "# -------------------------\n",
        "print(\"\\nFinal Model Performance Summary\")\n",
        "print(\"---------------------------------\")\n",
        "print(f\"Summarization (ROUGE-L): {avg_rouge:.3f}\")\n",
        "print(f\"Paraphrasing (BLEU): {avg_bleu:.3f}\")\n",
        "\n",
        "print(\"\\n Notebook executed successfully on CPU in under 30 seconds!\")\n"
      ],
      "metadata": {},
      "execution_count": null,
      "outputs": [
        {
          "output_type": "stream",
          "name": "stderr",
          "text": [
            "Device set to use cpu\n",
            "Device set to use cpu\n",
            "Your max_length is set to 80, but your input_length is only 51. Since this is a summarization task, where outputs shorter than the input are typically wanted, you might consider decreasing max_length manually, e.g. summarizer('...', max_length=25)\n"
          ]
        },
        {
          "output_type": "stream",
          "name": "stdout",
          "text": [
            "Generating summaries...\n"
          ]
        },
        {
          "output_type": "stream",
          "name": "stderr",
          "text": [
            "Both `max_new_tokens` (=256) and `max_length`(=80) seem to have been set. `max_new_tokens` will take precedence. Please refer to the documentation for more information. (https://huggingface.co/docs/transformers/main/en/main_classes/text_generation)\n",
            "Your max_length is set to 80, but your input_length is only 53. Since this is a summarization task, where outputs shorter than the input are typically wanted, you might consider decreasing max_length manually, e.g. summarizer('...', max_length=26)\n",
            "Both `max_new_tokens` (=256) and `max_length`(=80) seem to have been set. `max_new_tokens` will take precedence. Please refer to the documentation for more information. (https://huggingface.co/docs/transformers/main/en/main_classes/text_generation)\n"
          ]
        },
        {
          "output_type": "stream",
          "name": "stdout",
          "text": [
            " Summaries generated!\n",
            "\n",
            "Generating paraphrases...\n"
          ]
        },
        {
          "output_type": "stream",
          "name": "stderr",
          "text": [
            "Both `max_new_tokens` (=256) and `max_length`(=100) seem to have been set. `max_new_tokens` will take precedence. Please refer to the documentation for more information. (https://huggingface.co/docs/transformers/main/en/main_classes/text_generation)\n",
            "Both `max_new_tokens` (=256) and `max_length`(=100) seem to have been set. `max_new_tokens` will take precedence. Please refer to the documentation for more information. (https://huggingface.co/docs/transformers/main/en/main_classes/text_generation)\n"
          ]
        },
        {
          "output_type": "stream",
          "name": "stdout",
          "text": [
            " Paraphrases generated!\n",
            "\n"
          ]
        },
        {
          "output_type": "display_data",
          "data": {
            "text/plain": [
              "<Figure size 600x400 with 1 Axes>"
            ],
            "image/png": "[encoded data removed]"
          },
          "metadata": {}
        },
        {
          "output_type": "display_data",
          "data": {
            "text/plain": [
              "<Figure size 600x400 with 1 Axes>"
            ],
            "image/png": "[encoded data removed]"
          },
          "metadata": {}
        },
        {
          "output_type": "stream",
          "name": "stdout",
          "text": [
            "\n",
            "Final Model Performance Summary\n",
            "---------------------------------\n",
            "Summarization (ROUGE-L): 0.575\n",
            "Paraphrasing (BLEU): 0.403\n",
            "\n",
            " Notebook executed successfully on CPU in under 30 seconds!\n"
          ]
        }
      ]
    }
  ]
}